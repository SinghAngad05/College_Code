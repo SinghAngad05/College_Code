{
 "cells": [
  {
   "cell_type": "code",
   "execution_count": null,
   "metadata": {},
   "outputs": [],
   "source": [
    "#Adding new node to start of Link list\n",
    "\n",
    "class Node:\n",
    "    def__init__(self,data):\n",
    "        self.data=data #Node has data\n",
    "        self.next=None\n",
    "\n",
    "class LL: \n",
    "    def__init__(self):\n",
    "        self.head=None # Address of first node of LL\n",
    "    \n",
    "    def IS(self,data):\n",
    "        NN=Node(data)\n",
    "        if(self,head==None):\n",
    "            self.head=NN\n",
    "        else:\n",
    "            NN.next=self.head\n",
    "            self.head=NN\n",
    "\n",
    "\n",
    "# Adding new node to end of linked list\n",
    "\n",
    "\n",
    "\n",
    "\n"
   ]
  },
  {
   "cell_type": "code",
   "execution_count": null,
   "metadata": {},
   "outputs": [],
   "source": []
  }
 ],
 "metadata": {
  "kernelspec": {
   "display_name": "Python 3",
   "language": "python",
   "name": "python3"
  },
  "language_info": {
   "name": "python",
   "version": "3.12.5"
  }
 },
 "nbformat": 4,
 "nbformat_minor": 2
}
