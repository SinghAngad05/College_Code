{
 "cells": [
  {
   "cell_type": "code",
   "execution_count": 1,
   "id": "c8a027ce",
   "metadata": {},
   "outputs": [],
   "source": [
    "class dog:\n",
    "    def __init__(self,name,breed):\n",
    "        self.name = name\n",
    "        self.breed = breed\n",
    "\n",
    "    def bark(self):\n",
    "        print(f\"{self.name} says Woof!\")\n",
    "    "
   ]
  },
  {
   "cell_type": "code",
   "execution_count": null,
   "id": "d095785b",
   "metadata": {},
   "outputs": [
    {
     "name": "stdout",
     "output_type": "stream",
     "text": [
      "jupyter\n",
      "german_shepherd\n"
     ]
    }
   ],
   "source": [
    "my_dog = dog(\"jupyter\",\"german_shepherd\")\n",
    "print(my_dog.name)\n",
    "print(my_dog.breed)"
   ]
  },
  {
   "cell_type": "code",
   "execution_count": 7,
   "id": "347f6027",
   "metadata": {},
   "outputs": [
    {
     "name": "stdout",
     "output_type": "stream",
     "text": [
      "jupyter says Woof!\n"
     ]
    }
   ],
   "source": [
    "my_dog.bark()"
   ]
  },
  {
   "cell_type": "code",
   "execution_count": 10,
   "id": "7bfd32a7",
   "metadata": {},
   "outputs": [],
   "source": [
    "class counter:\n",
    "    def __init__(self):\n",
    "        self.count = 0\n",
    "\n",
    "    def increment(self):\n",
    "        self.count += 1\n",
    "    \n",
    "    def get_value(self):\n",
    "        return self.count\n"
   ]
  },
  {
   "cell_type": "code",
   "execution_count": 17,
   "id": "1c22bb4b",
   "metadata": {},
   "outputs": [
    {
     "name": "stdout",
     "output_type": "stream",
     "text": [
      "3\n"
     ]
    }
   ],
   "source": [
    "c = counter()\n",
    "c.increment()\n",
    "c.increment()\n",
    "c.increment()\n",
    "\n",
    "print(c.get_value())"
   ]
  },
  {
   "cell_type": "code",
   "execution_count": 27,
   "id": "aa890fc2",
   "metadata": {},
   "outputs": [],
   "source": [
    "class Car():\n",
    "    def __init__(self,brand,year):\n",
    "        self.brand = brand\n",
    "        self.year = year\n",
    "\n",
    "    def start_engine(self):\n",
    "        print(f\"{self.brand} is starting\")\n",
    "    \n"
   ]
  },
  {
   "cell_type": "code",
   "execution_count": 28,
   "id": "4eb67430",
   "metadata": {},
   "outputs": [
    {
     "name": "stdout",
     "output_type": "stream",
     "text": [
      "Toyota\n",
      "1996\n",
      "Toyota is starting\n"
     ]
    }
   ],
   "source": [
    "my_car= Car(\"Toyota\",\"1996\")\n",
    "print(my_car.brand)\n",
    "print(my_car.year)\n",
    "\n",
    "my_car.start_engine()"
   ]
  },
  {
   "cell_type": "code",
   "execution_count": 29,
   "id": "e761a027",
   "metadata": {},
   "outputs": [],
   "source": [
    "class Rectangle:\n",
    "    def __init__(self,length,breadth):\n",
    "        self.length = length\n",
    "        self.breadth = breadth\n",
    "\n",
    "    def area(self):\n",
    "       return self.length*self.breadth\n",
    "        \n",
    "\n",
    "    \n",
    "\n",
    "\n",
    "    "
   ]
  },
  {
   "cell_type": "code",
   "execution_count": null,
   "id": "569e1823",
   "metadata": {},
   "outputs": [
    {
     "data": {
      "text/plain": [
       "50"
      ]
     },
     "execution_count": 30,
     "metadata": {},
     "output_type": "execute_result"
    },
    {
     "ename": "",
     "evalue": "",
     "output_type": "error",
     "traceback": [
      "\u001b[1;31mThe Kernel crashed while executing code in the current cell or a previous cell. \n",
      "\u001b[1;31mPlease review the code in the cell(s) to identify a possible cause of the failure. \n",
      "\u001b[1;31mClick <a href='https://aka.ms/vscodeJupyterKernelCrash'>here</a> for more info. \n",
      "\u001b[1;31mView Jupyter <a href='command:jupyter.viewOutput'>log</a> for further details."
     ]
    }
   ],
   "source": [
    "my_rect = Rectangle(5,10)\n",
    "\n",
    "my_rect.area()"
   ]
  },
  {
   "cell_type": "code",
   "execution_count": 1,
   "id": "9e6a1b96",
   "metadata": {},
   "outputs": [],
   "source": [
    "# Problem 4: Create a Movie class\n",
    "# Store title and rating (out of 10).\n",
    "\n",
    "# Add a method review() that prints:\n",
    "\n",
    "# \"Excellent\" if rating ≥ 8\n",
    "\n",
    "# \"Good\" if rating ≥ 5\n",
    "\n",
    "# \"Poor\" otherwise"
   ]
  },
  {
   "cell_type": "code",
   "execution_count": 7,
   "id": "61467d14",
   "metadata": {},
   "outputs": [],
   "source": [
    "class movie:\n",
    "    def __init__(self,title,rating):\n",
    "        self.title = title\n",
    "        self.rating = rating\n",
    "    \n",
    "    def review(self):\n",
    "        if rating >= 8:\n",
    "            print (\"Movie is Excellent\")\n",
    "        elif rating >= 5:\n",
    "            print (\"Movie is good\")\n",
    "        else:\n",
    "            print(\"Movie is poor\")\n",
    "\n",
    "\n",
    "    "
   ]
  },
  {
   "cell_type": "code",
   "execution_count": 8,
   "id": "8be4a206",
   "metadata": {},
   "outputs": [
    {
     "name": "stdout",
     "output_type": "stream",
     "text": [
      "Movie is good\n"
     ]
    }
   ],
   "source": [
    "rating = 6\n",
    "movie.review(rating)"
   ]
  }
 ],
 "metadata": {
  "kernelspec": {
   "display_name": "Python 3",
   "language": "python",
   "name": "python3"
  },
  "language_info": {
   "codemirror_mode": {
    "name": "ipython",
    "version": 3
   },
   "file_extension": ".py",
   "mimetype": "text/x-python",
   "name": "python",
   "nbconvert_exporter": "python",
   "pygments_lexer": "ipython3",
   "version": "3.12.5"
  }
 },
 "nbformat": 4,
 "nbformat_minor": 5
}
