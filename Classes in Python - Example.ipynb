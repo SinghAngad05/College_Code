{
 "cells": [
  {
   "cell_type": "code",
   "execution_count": 1,
   "id": "c8a027ce",
   "metadata": {},
   "outputs": [],
   "source": [
    "class dog:\n",
    "    def __init__(self,name,breed):\n",
    "        self.name = name\n",
    "        self.breed = breed\n",
    "\n",
    "    def bark(self):\n",
    "        print(f\"{self.name} says Woof!\")\n",
    "    "
   ]
  },
  {
   "cell_type": "code",
   "execution_count": 2,
   "id": "d095785b",
   "metadata": {},
   "outputs": [
    {
     "name": "stdout",
     "output_type": "stream",
     "text": [
      "jupyter\n",
      "german_shepherd\n"
     ]
    }
   ],
   "source": [
    "my_dog = dog(\"jupyter\",\"german_shepherd\")\n",
    "print(my_dog.name)\n",
    "print(my_dog.breed)"
   ]
  },
  {
   "cell_type": "code",
   "execution_count": 3,
   "id": "347f6027",
   "metadata": {},
   "outputs": [
    {
     "name": "stdout",
     "output_type": "stream",
     "text": [
      "jupyter says Woof!\n"
     ]
    }
   ],
   "source": [
    "my_dog.bark()"
   ]
  },
  {
   "cell_type": "code",
   "execution_count": 4,
   "id": "7bfd32a7",
   "metadata": {},
   "outputs": [],
   "source": [
    "class counter:\n",
    "    def __init__(self):\n",
    "        self.count = 0\n",
    "\n",
    "    def increment(self):\n",
    "        self.count += 1\n",
    "    \n",
    "    def get_value(self):\n",
    "        return self.count\n"
   ]
  },
  {
   "cell_type": "code",
   "execution_count": 5,
   "id": "1c22bb4b",
   "metadata": {},
   "outputs": [
    {
     "name": "stdout",
     "output_type": "stream",
     "text": [
      "3\n"
     ]
    }
   ],
   "source": [
    "c = counter()\n",
    "c.increment()\n",
    "c.increment()\n",
    "c.increment()\n",
    "\n",
    "print(c.get_value())"
   ]
  },
  {
   "cell_type": "code",
   "execution_count": 6,
   "id": "aa890fc2",
   "metadata": {},
   "outputs": [],
   "source": [
    "class Car():\n",
    "    def __init__(self,brand,year):\n",
    "        self.brand = brand\n",
    "        self.year = year\n",
    "\n",
    "    def start_engine(self):\n",
    "        print(f\"{self.brand} is starting\")\n",
    "    \n"
   ]
  },
  {
   "cell_type": "code",
   "execution_count": 7,
   "id": "4eb67430",
   "metadata": {},
   "outputs": [
    {
     "name": "stdout",
     "output_type": "stream",
     "text": [
      "Toyota\n",
      "1996\n",
      "Toyota is starting\n"
     ]
    }
   ],
   "source": [
    "my_car= Car(\"Toyota\",\"1996\")\n",
    "print(my_car.brand)\n",
    "print(my_car.year)\n",
    "\n",
    "my_car.start_engine()"
   ]
  },
  {
   "cell_type": "code",
   "execution_count": 8,
   "id": "e761a027",
   "metadata": {},
   "outputs": [],
   "source": [
    "class Rectangle:\n",
    "    def __init__(self,length,breadth):\n",
    "        self.length = length\n",
    "        self.breadth = breadth\n",
    "\n",
    "    def area(self):\n",
    "       return self.length*self.breadth\n",
    "        \n",
    "\n",
    "    \n",
    "\n",
    "\n",
    "    "
   ]
  },
  {
   "cell_type": "code",
   "execution_count": 9,
   "id": "569e1823",
   "metadata": {},
   "outputs": [
    {
     "data": {
      "text/plain": [
       "50"
      ]
     },
     "execution_count": 9,
     "metadata": {},
     "output_type": "execute_result"
    }
   ],
   "source": [
    "my_rect = Rectangle(5,10)\n",
    "\n",
    "my_rect.area()"
   ]
  },
  {
   "cell_type": "code",
   "execution_count": 10,
   "id": "9e6a1b96",
   "metadata": {},
   "outputs": [],
   "source": [
    "# Problem 4: Create a Movie class\n",
    "# Store title and rating (out of 10).\n",
    "\n",
    "# Add a method review() that prints:\n",
    "\n",
    "# \"Excellent\" if rating ≥ 8\n",
    "\n",
    "# \"Good\" if rating ≥ 5\n",
    "\n",
    "# \"Poor\" otherwise"
   ]
  },
  {
   "cell_type": "code",
   "execution_count": 11,
   "id": "61467d14",
   "metadata": {},
   "outputs": [],
   "source": [
    "class movie:\n",
    "    def __init__(self,title,rating):\n",
    "        self.title = title\n",
    "        self.rating = rating\n",
    "    \n",
    "    def review(self):\n",
    "        if rating >= 8:\n",
    "            print (\"Movie is Excellent\")\n",
    "        elif rating >= 5:\n",
    "            print (\"Movie is good\")\n",
    "        else:\n",
    "            print(\"Movie is poor\")\n",
    "\n",
    "\n",
    "    "
   ]
  },
  {
   "cell_type": "code",
   "execution_count": 12,
   "id": "8be4a206",
   "metadata": {},
   "outputs": [
    {
     "name": "stdout",
     "output_type": "stream",
     "text": [
      "Movie is good\n"
     ]
    }
   ],
   "source": [
    "rating = 6\n",
    "movie.review(rating)"
   ]
  },
  {
   "cell_type": "markdown",
   "id": "dad1f9bb",
   "metadata": {},
   "source": [
    "<!-- Create a Circle class with:\n",
    "\n",
    "A radius attribute.\n",
    "\n",
    "A method to calculate area.\n",
    "\n",
    "A method to calculate circumference.\n",
    "\n",
    "A method to update the radius. -->"
   ]
  },
  {
   "cell_type": "markdown",
   "id": "7ab3d38e",
   "metadata": {},
   "source": [
    "Create a Circle class with:\n",
    "\n",
    "A radius attribute.\n",
    "\n",
    "A method to calculate area.\n",
    "\n",
    "A method to calculate circumference.\n",
    "\n",
    "A method to update the radius."
   ]
  },
  {
   "cell_type": "markdown",
   "id": "4ff1783b",
   "metadata": {},
   "source": []
  },
  {
   "cell_type": "code",
   "execution_count": null,
   "id": "c2874d61",
   "metadata": {},
   "outputs": [],
   "source": [
    "class Circle:\n",
    "\n",
    "    def __init__(self,radius):\n",
    "        self.radius = radius\n",
    "    \n",
    "    def area(self):\n",
    "        self.radius**2*3.14\n",
    "    \n"
   ]
  },
  {
   "cell_type": "code",
   "execution_count": null,
   "id": "0cb92e42",
   "metadata": {},
   "outputs": [
    {
     "ename": "SyntaxError",
     "evalue": "invalid syntax (2759355967.py, line 12)",
     "output_type": "error",
     "traceback": [
      "\u001b[1;36m  Cell \u001b[1;32mIn[14], line 12\u001b[1;36m\u001b[0m\n\u001b[1;33m    return newradius = radius\u001b[0m\n\u001b[1;37m                     ^\u001b[0m\n\u001b[1;31mSyntaxError\u001b[0m\u001b[1;31m:\u001b[0m invalid syntax\n"
     ]
    }
   ],
   "source": [
    "class circle:\n",
    "    def __init__(self, radius):\n",
    "        self.radius = radius\n",
    "\n",
    "    def area(self):\n",
    "        return self.radius ** 2 * 3.14\n",
    "    \n",
    "    def circumfrance(self):\n",
    "        return 2 * 3.14 * self.radius\n",
    "    \n",
    "    def update_radius(self, newradius):\n",
    "        self.radius = newradius\n"
   ]
  },
  {
   "cell_type": "code",
   "execution_count": null,
   "id": "2cc5bc13",
   "metadata": {},
   "outputs": [
    {
     "data": {
      "text/plain": [
       "78.5"
      ]
     },
     "execution_count": 5,
     "metadata": {},
     "output_type": "execute_result"
    }
   ],
   "source": [
    "my_circ = circle(5)\n",
    "my_circ.area()"
   ]
  }
 ],
 "metadata": {
  "kernelspec": {
   "display_name": "Python 3",
   "language": "python",
   "name": "python3"
  },
  "language_info": {
   "codemirror_mode": {
    "name": "ipython",
    "version": 3
   },
   "file_extension": ".py",
   "mimetype": "text/x-python",
   "name": "python",
   "nbconvert_exporter": "python",
   "pygments_lexer": "ipython3",
   "version": "3.12.5"
  }
 },
 "nbformat": 4,
 "nbformat_minor": 5
}
