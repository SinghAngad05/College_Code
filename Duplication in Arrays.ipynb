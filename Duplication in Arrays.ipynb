{
 "cells": [
  {
   "cell_type": "markdown",
   "metadata": {},
   "source": [
    "**Finding Duplicate in Arrays**"
   ]
  },
  {
   "cell_type": "code",
   "execution_count": 17,
   "metadata": {},
   "outputs": [
    {
     "name": "stdout",
     "output_type": "stream",
     "text": [
      "Duplicate element [2, 3]\n"
     ]
    }
   ],
   "source": [
    "def duplicate_num(arr):\n",
    "    duplicates = []\n",
    "    seen = set()\n",
    "    \n",
    "\n",
    "    for num in arr:\n",
    "        if num in seen and num not in duplicates:\n",
    "            duplicates.append(num)\n",
    "        seen.add(num)\n",
    "        \n",
    "\n",
    "    return duplicates\n",
    "\n",
    "array = [2,3,5,6,4,2,3,9]\n",
    "duplicates = duplicate_num(array)\n",
    "print ('Duplicate element', duplicates)"
   ]
  },
  {
   "cell_type": "code",
   "execution_count": null,
   "metadata": {},
   "outputs": [],
   "source": []
  }
 ],
 "metadata": {
  "kernelspec": {
   "display_name": "Python 3",
   "language": "python",
   "name": "python3"
  },
  "language_info": {
   "codemirror_mode": {
    "name": "ipython",
    "version": 3
   },
   "file_extension": ".py",
   "mimetype": "text/x-python",
   "name": "python",
   "nbconvert_exporter": "python",
   "pygments_lexer": "ipython3",
   "version": "3.11.9"
  }
 },
 "nbformat": 4,
 "nbformat_minor": 2
}
