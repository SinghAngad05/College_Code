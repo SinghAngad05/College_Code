{
 "cells": [
  {
   "cell_type": "markdown",
   "id": "528c5b0d-bf92-4cc3-a9f2-837b9c50089a",
   "metadata": {},
   "source": [
    "**Number is Palindrome or not**"
   ]
  },
  {
   "cell_type": "code",
   "execution_count": 8,
   "id": "15dc35b1-e501-464c-870e-9070c19ac816",
   "metadata": {},
   "outputs": [
    {
     "name": "stdin",
     "output_type": "stream",
     "text": [
      "Enter a string:  Civic\n"
     ]
    },
    {
     "name": "stdout",
     "output_type": "stream",
     "text": [
      "'Civic' is a palindrome!\n"
     ]
    }
   ],
   "source": [
    "# Take input from the user first\n",
    "input_str = input(\"Enter a string: \")\n",
    "\n",
    "# Now define the function\n",
    "def pali(s):\n",
    "    s = ''.join(char.lower() for char in s if char.isalnum())\n",
    "    return s == s[::-1] #Reverse of s is also similar to s.\n",
    "\n",
    "# Call the function after defining it\n",
    "if pali(input_str):\n",
    "    print(f\"'{input_str}' is a palindrome!\")\n",
    "else:\n",
    "    print(f\"'{input_str}' is not a palindrome.\")"
   ]
  },
  {
   "cell_type": "code",
   "execution_count": null,
   "id": "81b36d7b-55f8-435c-997c-66fc104975fd",
   "metadata": {},
   "outputs": [],
   "source": []
  }
 ],
 "metadata": {
  "kernelspec": {
   "display_name": "Python 3 (ipykernel)",
   "language": "python",
   "name": "python3"
  },
  "language_info": {
   "codemirror_mode": {
    "name": "ipython",
    "version": 3
   },
   "file_extension": ".py",
   "mimetype": "text/x-python",
   "name": "python",
   "nbconvert_exporter": "python",
   "pygments_lexer": "ipython3",
   "version": "3.12.4"
  }
 },
 "nbformat": 4,
 "nbformat_minor": 5
}
